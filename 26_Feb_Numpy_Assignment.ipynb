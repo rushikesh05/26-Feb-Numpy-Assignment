{
  "nbformat": 4,
  "nbformat_minor": 0,
  "metadata": {
    "colab": {
      "provenance": []
    },
    "kernelspec": {
      "name": "python3",
      "display_name": "Python 3"
    },
    "language_info": {
      "name": "python"
    }
  },
  "cells": [
    {
      "cell_type": "markdown",
      "source": [
        "###Consider the below code to answer further questions:\n",
        "```\n",
        "import numpy as np\n",
        "list_ = [ ‘1’ , ’2’ , ‘3’ , ‘4’ , ‘5’ ]\n",
        "array_list = np.array(object = list_)\n",
        "```\n",
        "##Q1. Is there any difference in the data type of variables list_ and array_list? If there is then write a code to print the data types of both the variables.\n",
        "\n",
        "* Yes, there is a difference in the data type of variables list_ and array_list. The variable list_ is a Python list while the variable array_list is a NumPy array."
      ],
      "metadata": {
        "id": "J6mcNuqlPCqq"
      }
    },
    {
      "cell_type": "code",
      "execution_count": 1,
      "metadata": {
        "colab": {
          "base_uri": "https://localhost:8080/"
        },
        "id": "BpVMCnI5O6SE",
        "outputId": "e6f93c49-1ffd-43df-de97-5ea80494005e"
      },
      "outputs": [
        {
          "output_type": "stream",
          "name": "stdout",
          "text": [
            "<class 'list'>\n",
            "<class 'numpy.ndarray'>\n"
          ]
        }
      ],
      "source": [
        "import numpy as np\n",
        "\n",
        "list_ = ['1', '2', '3', '4', '5']\n",
        "array_list = np.array(object=list_)\n",
        "\n",
        "print(type(list_))\n",
        "print(type(array_list))\n"
      ]
    },
    {
      "cell_type": "markdown",
      "source": [
        "##Q2. Write a code to print the data type of each and every element of both the variables list_ and arra_list."
      ],
      "metadata": {
        "id": "bUDrUqxEPaWD"
      }
    },
    {
      "cell_type": "code",
      "source": [
        "import numpy as np\n",
        "\n",
        "list_ = ['1', '2', '3', '4', '5']\n",
        "array_list = np.array(object=list_)\n",
        "\n",
        "# print data type of each element in list_\n",
        "for elements in list_:\n",
        "    print(type(elements))\n",
        "\n",
        "# print data type of each element in array_list\n",
        "for elem in array_list:\n",
        "    print(type(elem))\n"
      ],
      "metadata": {
        "colab": {
          "base_uri": "https://localhost:8080/"
        },
        "id": "7RzHGPFoPVap",
        "outputId": "cf87800d-9b9a-49f6-85cf-d7305938ea36"
      },
      "execution_count": 2,
      "outputs": [
        {
          "output_type": "stream",
          "name": "stdout",
          "text": [
            "<class 'str'>\n",
            "<class 'str'>\n",
            "<class 'str'>\n",
            "<class 'str'>\n",
            "<class 'str'>\n",
            "<class 'numpy.str_'>\n",
            "<class 'numpy.str_'>\n",
            "<class 'numpy.str_'>\n",
            "<class 'numpy.str_'>\n",
            "<class 'numpy.str_'>\n"
          ]
        }
      ]
    },
    {
      "cell_type": "markdown",
      "source": [
        "##Q3. Considering the following changes in the variable, array_list:\n",
        "```\n",
        "array_list = np.array(object = list_, dtype = int)\n",
        "```\n",
        "Will there be any difference in the data type of the elements present in both the variables, list_ and\n",
        "arra_list? If so then print the data types of each and every element present in both the variables, list_\n",
        "and arra_list.\n",
        "\n",
        "##Ans --> \n",
        "* Yes, there will be a difference in the data type of the elements present in both the variables list_ and array_list when array_list is defined as np.array(object=list_, dtype=int). The dtype parameter is used to specify the data type of the array elements.\n",
        "\n",
        "* In this case, the dtype parameter is set to int, which means that the elements in array_list will be converted to integers."
      ],
      "metadata": {
        "id": "5b1SngjxP0G5"
      }
    },
    {
      "cell_type": "code",
      "source": [
        "import numpy as np\n",
        "\n",
        "list_ = ['1', '2', '3', '4', '5']\n",
        "array_list = np.array(object=list_, dtype=int)\n",
        "\n",
        "# print data type of each element in list_\n",
        "for elem in list_:\n",
        "    print(type(elem))\n",
        "\n",
        "# print data type of each element in array_list\n",
        "for elem in array_list:\n",
        "    print(type(elem))\n"
      ],
      "metadata": {
        "colab": {
          "base_uri": "https://localhost:8080/"
        },
        "id": "xdHokWAvPrMX",
        "outputId": "25b15e87-c025-4348-b880-7739e2942c8e"
      },
      "execution_count": 3,
      "outputs": [
        {
          "output_type": "stream",
          "name": "stdout",
          "text": [
            "<class 'str'>\n",
            "<class 'str'>\n",
            "<class 'str'>\n",
            "<class 'str'>\n",
            "<class 'str'>\n",
            "<class 'numpy.int64'>\n",
            "<class 'numpy.int64'>\n",
            "<class 'numpy.int64'>\n",
            "<class 'numpy.int64'>\n",
            "<class 'numpy.int64'>\n"
          ]
        }
      ]
    },
    {
      "cell_type": "markdown",
      "source": [
        "Consider the below code to answer further questions:\n",
        "```\n",
        "import numpy as np\n",
        "num_list = [ [ 1 , 2 , 3 ] , [ 4 , 5 , 6 ] ]\n",
        "num_array = np.array(object = num_list)\n",
        "```\n",
        "##Q4. Write a code to find the following characteristics of variable, num_array:\n",
        "#(i) shape\n"
      ],
      "metadata": {
        "id": "teXSSERKQJcl"
      }
    },
    {
      "cell_type": "code",
      "source": [
        "import numpy as np\n",
        "\n",
        "num_list = [[1, 2, 3], [4, 5, 6]]\n",
        "num_array = np.array(object=num_list)\n",
        "\n",
        "# find shape of num_array\n",
        "print(num_array.shape)  \n",
        "\n",
        "\n"
      ],
      "metadata": {
        "colab": {
          "base_uri": "https://localhost:8080/"
        },
        "id": "ZRgzS-NtQEZu",
        "outputId": "bfbe1804-8386-4dc8-9e8e-5864d9cd0c99"
      },
      "execution_count": 4,
      "outputs": [
        {
          "output_type": "stream",
          "name": "stdout",
          "text": [
            "(2, 3)\n"
          ]
        }
      ]
    },
    {
      "cell_type": "markdown",
      "source": [
        "#(ii) size"
      ],
      "metadata": {
        "id": "r8yyoBt4QelC"
      }
    },
    {
      "cell_type": "code",
      "source": [
        "# find size of num_array\n",
        "print(num_array.size)   "
      ],
      "metadata": {
        "colab": {
          "base_uri": "https://localhost:8080/"
        },
        "id": "TrLouWlNQbml",
        "outputId": "3a092ecf-1ad8-46ba-be44-ec14f51f0299"
      },
      "execution_count": 5,
      "outputs": [
        {
          "output_type": "stream",
          "name": "stdout",
          "text": [
            "6\n"
          ]
        }
      ]
    },
    {
      "cell_type": "markdown",
      "source": [
        "##Q5. Write a code to create numpy array of 3*3 matrix containing zeros only, using a numpy array creation function.\n"
      ],
      "metadata": {
        "id": "O1ARhaUCQlWN"
      }
    },
    {
      "cell_type": "code",
      "source": [
        "import numpy as np\n",
        "\n",
        "# create 3x3 NumPy array with zeros\n",
        "zeros_array = np.zeros((3, 3))\n",
        "\n",
        "# print zeros_array\n",
        "print(zeros_array)\n"
      ],
      "metadata": {
        "colab": {
          "base_uri": "https://localhost:8080/"
        },
        "id": "JslbQEQpQfkt",
        "outputId": "294547d9-6ee7-4150-ad4e-7caa20c9c299"
      },
      "execution_count": 6,
      "outputs": [
        {
          "output_type": "stream",
          "name": "stdout",
          "text": [
            "[[0. 0. 0.]\n",
            " [0. 0. 0.]\n",
            " [0. 0. 0.]]\n"
          ]
        }
      ]
    },
    {
      "cell_type": "markdown",
      "source": [
        "##Q6. Create an identity matrix of shape (5,5) using numpy functions?\n",
        "[Hint: An identity matrix is a matrix containing 1 diagonally and other elements will be 0.]"
      ],
      "metadata": {
        "id": "MoUR8mOGQ6o6"
      }
    },
    {
      "cell_type": "code",
      "source": [
        "import numpy as np\n",
        "\n",
        "# create identity matrix of shape (5, 5)\n",
        "identity_matrix = np.identity(5)\n",
        "\n",
        "# print identity_matrix\n",
        "print(identity_matrix)\n"
      ],
      "metadata": {
        "colab": {
          "base_uri": "https://localhost:8080/"
        },
        "id": "qtgdUy8zQ2aQ",
        "outputId": "9b5e6674-2f95-47f2-b76a-82183e7996a6"
      },
      "execution_count": 7,
      "outputs": [
        {
          "output_type": "stream",
          "name": "stdout",
          "text": [
            "[[1. 0. 0. 0. 0.]\n",
            " [0. 1. 0. 0. 0.]\n",
            " [0. 0. 1. 0. 0.]\n",
            " [0. 0. 0. 1. 0.]\n",
            " [0. 0. 0. 0. 1.]]\n"
          ]
        }
      ]
    },
    {
      "cell_type": "code",
      "source": [],
      "metadata": {
        "id": "HJWonJRhRSy0"
      },
      "execution_count": null,
      "outputs": []
    }
  ]
}